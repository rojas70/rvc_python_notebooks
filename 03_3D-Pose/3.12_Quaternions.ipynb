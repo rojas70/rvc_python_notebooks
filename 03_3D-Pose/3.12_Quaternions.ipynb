{
 "cells": [
  {
   "cell_type": "markdown",
   "metadata": {},
   "source": [
    "# RVC 1, Ch2.2\n",
    "https://petercorke.github.io/spatialmath-python/func_3d.html"
   ]
  },
  {
   "cell_type": "code",
   "execution_count": null,
   "metadata": {},
   "outputs": [],
   "source": [
    "# Works best with jupyter-notebook\n",
    "##TODO: update plotting methods everywhere. outdated."
   ]
  },
  {
   "cell_type": "code",
   "execution_count": null,
   "metadata": {},
   "outputs": [],
   "source": [
    "%matplotlib notebook \n",
    "#%matplotlib widget \n",
    "# https://ipython.readthedocs.io/en/stable/interactive/magics.html\n",
    "import numpy as np\n",
    "\n",
    "from spatialmath import *\n",
    "from spatialmath.base import * # many methods angle2R type, core math funcs, plotting, etc...\n",
    "\n",
    "import matplotlib.pyplot as plt\n",
    "np.set_printoptions(linewidth=100, formatter={'float': lambda x: f\"{x:8.4g}\" if abs(x) > 1e-10 else f\"{0:8.4g}\"})"
   ]
  },
  {
   "cell_type": "markdown",
   "metadata": {},
   "source": [
    "## Lec 3.12 Quaternions\n",
    "https://petercorke.github.io/spatialmath-python/func_quat.html"
   ]
  },
  {
   "cell_type": "markdown",
   "metadata": {},
   "source": [
    "## Quaternions\n",
    "\n",
    "A quaternion is often described as a type of complex number but it is more useful (and simpler) to think of it as an order pair comprising a scalar and a vector.  "
   ]
  },
  {
   "cell_type": "markdown",
   "metadata": {},
   "source": [
    "Let's create a 90 degree rotation about the x-axis: pass a list as [s vx vy vz]\n",
    "\n",
    "Quickly visualize them here https://quaternions.online/"
   ]
  },
  {
   "cell_type": "code",
   "execution_count": null,
   "metadata": {},
   "outputs": [],
   "source": [
    "q1 = Quaternion([0.707,0.707,0,0])\n",
    "print(f'The quaternion is: {q1}')\n",
    "print(f'The scalar portion is {q1.A[0]}')\n",
    "print(f'The vector portion is {q1.A[-3:]}')\n",
    "type(q1)"
   ]
  },
  {
   "cell_type": "markdown",
   "metadata": {},
   "source": [
    "Where: \n",
    "- the scalar part corresponds to the first item in the array\n",
    "- the vector corresponds to the last 3 numbers "
   ]
  },
  {
   "cell_type": "markdown",
   "metadata": {},
   "source": [
    "**Quaternion Class**:\n",
    "\n",
    "*Note, these are not yet unit quaternions*.\n",
    "\n",
    "Properties:\n",
    "- s   returns sclar portion\n",
    "- v   returns vector portion\n",
    "- vec returns a numpy array for the whole quat\n",
    "\n",
    "Methods:\n",
    "- conj returns the conjugate quaternion\n",
    "- unit return a unit quaternion if it is not one.\n",
    "- norm returns the norm: the magnitude equivalent to the 4-vector."
   ]
  },
  {
   "cell_type": "markdown",
   "metadata": {},
   "source": [
    "Properties:"
   ]
  },
  {
   "cell_type": "code",
   "execution_count": null,
   "metadata": {},
   "outputs": [],
   "source": [
    "q1.s"
   ]
  },
  {
   "cell_type": "code",
   "execution_count": null,
   "metadata": {},
   "outputs": [],
   "source": [
    "q1.v"
   ]
  },
  {
   "cell_type": "code",
   "execution_count": null,
   "metadata": {},
   "outputs": [],
   "source": [
    "q1.vec"
   ]
  },
  {
   "cell_type": "markdown",
   "metadata": {},
   "source": [
    "Methods:"
   ]
  },
  {
   "cell_type": "code",
   "execution_count": null,
   "metadata": {},
   "outputs": [],
   "source": [
    "q1.conj()"
   ]
  },
  {
   "cell_type": "code",
   "execution_count": null,
   "metadata": {},
   "outputs": [],
   "source": [
    "q1.unit()"
   ]
  },
  {
   "cell_type": "code",
   "execution_count": null,
   "metadata": {},
   "outputs": [],
   "source": [
    "q1.norm()"
   ]
  },
  {
   "cell_type": "markdown",
   "metadata": {},
   "source": [
    "Operations:\n",
    "Let's examine the types of operations we can perform with quaternions. First create a second quaternion."
   ]
  },
  {
   "cell_type": "markdown",
   "metadata": {},
   "source": [
    "We can create a second rotation of 90 degrees about the x-axis"
   ]
  },
  {
   "cell_type": "code",
   "execution_count": null,
   "metadata": {},
   "outputs": [],
   "source": [
    "q2 = Quaternion([0.707,0.707,0,0])\n",
    "q2"
   ]
  },
  {
   "cell_type": "markdown",
   "metadata": {},
   "source": [
    "Operations like additions and subtraction are also possible. But their physical meaning is more nuanced. For example: https://gamedev.stackexchange.com/questions/121021/is-adding-quaternions-a-useful-operation"
   ]
  },
  {
   "cell_type": "code",
   "execution_count": null,
   "metadata": {},
   "outputs": [],
   "source": [
    "q1 + q2"
   ]
  },
  {
   "cell_type": "markdown",
   "metadata": {},
   "source": [
    "In general, you will compose rotations by multiplying them via the * operator. The operation is the hamilton product: \\\n",
    "https://en.wikipedia.org/wiki/Quaternion#Hamilton_product\n",
    "\n",
    "The product of two rotation quaternions will be equivalent to the rotation q2 followed by the rotation q1. "
   ]
  },
  {
   "cell_type": "code",
   "execution_count": null,
   "metadata": {},
   "outputs": [],
   "source": [
    "q1*q2"
   ]
  },
  {
   "cell_type": "markdown",
   "metadata": {},
   "source": [
    "In the above example, we get a 180 degree rotation about the x-axis.... Can you test other rotations? Order matters."
   ]
  },
  {
   "cell_type": "markdown",
   "metadata": {},
   "source": [
    "Multiplication can also be performed as the linear algebraic product of one quaternion converted to a 4x4 matrix.\n",
    "\n",
    "Matrix representations are not equivalent to the rotation matrices we saw before. Note:\\\n",
    "https://en.wikipedia.org/wiki/Quaternion#Matrix_representations"
   ]
  },
  {
   "cell_type": "code",
   "execution_count": null,
   "metadata": {},
   "outputs": [],
   "source": [
    "q1 = Quaternion([0.707,0,0,0.707]) # 90 degree rotation by z.\n",
    "q1.matrix"
   ]
  },
  {
   "cell_type": "markdown",
   "metadata": {},
   "source": [
    "and the other as a 4-vector "
   ]
  },
  {
   "cell_type": "code",
   "execution_count": null,
   "metadata": {},
   "outputs": [],
   "source": [
    "q1.matrix @ q2.vec # 90 degree z-rotation, followed by a 90 degree x-rotation."
   ]
  },
  {
   "cell_type": "markdown",
   "metadata": {},
   "source": [
    "The product of a quaternion and its conjugate is a **scalar** equal to the square of its norm"
   ]
  },
  {
   "cell_type": "code",
   "execution_count": null,
   "metadata": {},
   "outputs": [],
   "source": [
    "q1 * q1.conj()"
   ]
  },
  {
   "cell_type": "markdown",
   "metadata": {},
   "source": [
    "Conversely, a quaternion with a zero scalar part is called a _pure quaternion_"
   ]
  },
  {
   "cell_type": "code",
   "execution_count": null,
   "metadata": {},
   "outputs": [],
   "source": [
    "Quaternion.Pure([1, 2, 3])"
   ]
  },
  {
   "cell_type": "markdown",
   "metadata": {},
   "source": [
    "### Unit quaternions\n",
    "\n",
    "A quaternion with a unit norm is called a _unit quaternion_ .  \n",
    "\n",
    "It is a group and its elements represent **rotation in 3D space**.  It is in all regards like an $\\mbox{SO}(3)$ matrix except for a _double mapping_ -- a quaternion and its element-wise negation represent the same rotation."
   ]
  },
  {
   "cell_type": "code",
   "execution_count": null,
   "metadata": {},
   "outputs": [],
   "source": [
    "q1 = UnitQuaternion.Rx(60, 'deg')\n",
    "print(q1)\n",
    "\n",
    "print('\\n')\n",
    "print(f'The cosine of 30 degrees is: {np.cos( np.deg2rad(30) )}' )\n",
    "print(f'The cosine of 30 degrees is: {np.sin( np.deg2rad(30) )}' )"
   ]
  },
  {
   "cell_type": "markdown",
   "metadata": {},
   "source": [
    "Quaterions can be easily plot by calling the plot() method."
   ]
  },
  {
   "cell_type": "code",
   "execution_count": null,
   "metadata": {},
   "outputs": [],
   "source": [
    "help(q1.plot)"
   ]
  },
  {
   "cell_type": "code",
   "execution_count": null,
   "metadata": {},
   "outputs": [],
   "source": [
    "from mpl_toolkits.mplot3d import Axes3D\n",
    "q1.plot(block=False, dims=[-1,1],color='green', frame='q1', length=0.75, style='arrow', projection='ortho')"
   ]
  },
  {
   "cell_type": "markdown",
   "metadata": {},
   "source": [
    "The convention is that unit quaternions are denoted using double angle brackets.  The norm, as advertised is indeed one"
   ]
  },
  {
   "cell_type": "code",
   "execution_count": null,
   "metadata": {},
   "outputs": [],
   "source": [
    "q1.norm()"
   ]
  },
  {
   "cell_type": "markdown",
   "metadata": {},
   "source": [
    "Let's test unit quaternion multiplication."
   ]
  },
  {
   "cell_type": "code",
   "execution_count": null,
   "metadata": {},
   "outputs": [],
   "source": [
    "q1 = UnitQuaternion.Rx(45, 'deg')\n",
    "q2 = UnitQuaternion.Rz(90, 'deg')"
   ]
  },
  {
   "cell_type": "markdown",
   "metadata": {},
   "source": [
    "Rotations can be composed by quaternion multiplication. "
   ]
  },
  {
   "cell_type": "code",
   "execution_count": null,
   "metadata": {},
   "outputs": [],
   "source": [
    "q3 = q1 * q2\n",
    "q3"
   ]
  },
  {
   "cell_type": "markdown",
   "metadata": {},
   "source": [
    "Which again is applied in reverse... First, the 90 degree rotation about z, followed by the 45 degree about the original x-axis. Visualize it."
   ]
  },
  {
   "cell_type": "code",
   "execution_count": null,
   "metadata": {},
   "outputs": [],
   "source": [
    "q3.plot(block=False, dims=[-1,1],color='blue', frame='q3', length=0.75, style='arrow', projection='ortho')"
   ]
  },
  {
   "cell_type": "markdown",
   "metadata": {},
   "source": [
    "We can convert a Unit quaternion to a **rotation matrix** with the property R"
   ]
  },
  {
   "cell_type": "code",
   "execution_count": null,
   "metadata": {},
   "outputs": [],
   "source": [
    "q3.R"
   ]
  },
  {
   "cell_type": "markdown",
   "metadata": {},
   "source": [
    "which yields exactly the same answer as if we'd done it using SO(3) rotation matrices"
   ]
  },
  {
   "cell_type": "code",
   "execution_count": null,
   "metadata": {},
   "outputs": [],
   "source": [
    "SO3.Rx(45, 'deg') * SO3.Rz(90, 'deg')"
   ]
  },
  {
   "cell_type": "markdown",
   "metadata": {},
   "source": [
    "The advantages of unit quaternions are that\n",
    "\n",
    "1. they are compact, just 4 numbers instead of 9\n",
    "2. multiplication involves fewer operations and is therefore faster\n",
    "3. numerical errors build up when we multiply rotation matrices together many times, and they lose the structure (the columns are no longer unit length or orthogonal).  Correcting this, the process of _normalization_ is expensive.  \n",
    "\n",
    "For unit quaternions errors will also compound, but normalization is simply a matter of dividing through by the norm"
   ]
  },
  {
   "cell_type": "code",
   "execution_count": null,
   "metadata": {},
   "outputs": [],
   "source": [
    "print(f'q3 is:\\n{q3}\\n')\n",
    "print(f'It\\'s norm is: {q3.norm()}\\n')\n",
    "print(f'The normalized quaternion is:\\n{q3/q3.norm()}')"
   ]
  },
  {
   "cell_type": "markdown",
   "metadata": {},
   "source": [
    "### Unit quaternions Inverses"
   ]
  },
  {
   "cell_type": "code",
   "execution_count": null,
   "metadata": {},
   "outputs": [],
   "source": [
    "q1 = UnitQuaternion.Rx(60, 'deg')"
   ]
  },
  {
   "cell_type": "code",
   "execution_count": null,
   "metadata": {},
   "outputs": [],
   "source": [
    "q1"
   ]
  },
  {
   "cell_type": "markdown",
   "metadata": {},
   "source": [
    "We can compute the inverse in two ways:\n",
    "\n",
    "    - use the inv() method\n",
    "    - use the / operator."
   ]
  },
  {
   "cell_type": "code",
   "execution_count": null,
   "metadata": {},
   "outputs": [],
   "source": [
    "q1 * q1.inv()"
   ]
  },
  {
   "cell_type": "markdown",
   "metadata": {},
   "source": [
    "or"
   ]
  },
  {
   "cell_type": "code",
   "execution_count": null,
   "metadata": {},
   "outputs": [],
   "source": [
    "q1 / q1"
   ]
  },
  {
   "cell_type": "markdown",
   "metadata": {},
   "source": [
    "### Converting Quaternions to S03 objects"
   ]
  },
  {
   "cell_type": "markdown",
   "metadata": {},
   "source": [
    "We can convert any unit quaternion to an SO3 object if we wish"
   ]
  },
  {
   "cell_type": "code",
   "execution_count": null,
   "metadata": {},
   "outputs": [],
   "source": [
    "q1.SO3()"
   ]
  },
  {
   "cell_type": "markdown",
   "metadata": {},
   "source": [
    "and conversely, any `SO3` object to a unit quaternion"
   ]
  },
  {
   "cell_type": "code",
   "execution_count": null,
   "metadata": {},
   "outputs": [],
   "source": [
    "UnitQuaternion( SO3.Rx(60, 'deg'))"
   ]
  },
  {
   "cell_type": "markdown",
   "metadata": {},
   "source": [
    "A unit quaternion is not a minimal representation. \n",
    "\n",
    "Since we know the magnitude is 1, then with any 3 elements we can compute the fourth upto a sign ambiguity. \n",
    "Recall how to extract the vector comopnent of the quaternion:"
   ]
  },
  {
   "cell_type": "code",
   "execution_count": null,
   "metadata": {},
   "outputs": [],
   "source": [
    "print(q1.vec3)\n",
    "print(q1.v)"
   ]
  },
  {
   "cell_type": "markdown",
   "metadata": {},
   "source": [
    "You can now take two quaternions and multiply their vector components"
   ]
  },
  {
   "cell_type": "code",
   "execution_count": null,
   "metadata": {},
   "outputs": [],
   "source": [
    "a = UnitQuaternion.qvmul( q1.vec3, q2.vec3)\n",
    "a"
   ]
  },
  {
   "cell_type": "markdown",
   "metadata": {},
   "source": [
    "From which we can recreate the unit quaternion by computing unit quantities."
   ]
  },
  {
   "cell_type": "code",
   "execution_count": null,
   "metadata": {
    "scrolled": true
   },
   "outputs": [],
   "source": [
    "UnitQuaternion.Vec3(a)"
   ]
  }
 ],
 "metadata": {
  "kernelspec": {
   "display_name": "Python 3",
   "language": "python",
   "name": "python3"
  },
  "language_info": {
   "codemirror_mode": {
    "name": "ipython",
    "version": 3
   },
   "file_extension": ".py",
   "mimetype": "text/x-python",
   "name": "python",
   "nbconvert_exporter": "python",
   "pygments_lexer": "ipython3",
   "version": "3.8.10"
  }
 },
 "nbformat": 4,
 "nbformat_minor": 2
}
