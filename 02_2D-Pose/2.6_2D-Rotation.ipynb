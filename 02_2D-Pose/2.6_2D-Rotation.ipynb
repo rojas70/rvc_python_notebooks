{
 "cells": [
  {
   "cell_type": "markdown",
   "metadata": {},
   "source": [
    "# RVC 1, Ch2.1"
   ]
  },
  {
   "cell_type": "code",
   "execution_count": null,
   "metadata": {},
   "outputs": [],
   "source": [
    "# Works best with jupyter-notebook"
   ]
  },
  {
   "cell_type": "code",
   "execution_count": 3,
   "metadata": {},
   "outputs": [],
   "source": [
    "%matplotlib notebook \n",
    "# https://ipython.readthedocs.io/en/stable/interactive/magics.html\n",
    "import numpy as np\n",
    "\n",
    "from spatialmath import *\n",
    "from spatialmath.base import *\n",
    "#from roboticstoolbox import *\n",
    "import matplotlib.pyplot as plt\n",
    "\n",
    "#!pip3 install sympy testresources pgraph\n",
    "\n",
    "np.set_printoptions(linewidth=100, formatter={'float': lambda x: f\"{x:8.4g}\" if abs(x) > 1e-10 else f\"{0:8.4g}\"})"
   ]
  },
  {
   "cell_type": "markdown",
   "metadata": {},
   "source": [
    "## Lec 01.6 (Ch 2.1) 2D rotations\n",
    "*For more help with 2D commands see:*\n",
    "https://petercorke.github.io/spatialmath-python/func_2d.html"
   ]
  },
  {
   "cell_type": "markdown",
   "metadata": {},
   "source": [
    "Rotations about a given axis can be achieved with:\n",
    "- SO(2) rot2 (ndarray (2,2)) rotation matrices\n",
    "- SE(2) SE2 creates (ndarray (3,3)) rotation matrices"
   ]
  },
  {
   "cell_type": "code",
   "execution_count": 5,
   "metadata": {},
   "outputs": [
    {
     "name": "stdout",
     "output_type": "stream",
     "text": [
      "[[       1        0]\n",
      " [       0        1]]\n"
     ]
    },
    {
     "data": {
      "text/plain": [
       "numpy.ndarray"
      ]
     },
     "execution_count": 5,
     "metadata": {},
     "output_type": "execute_result"
    }
   ],
   "source": [
    "# Create a rotation matrix\n",
    "R = rot2(0)\n",
    "print(R)\n",
    "type(R)"
   ]
  },
  {
   "cell_type": "markdown",
   "metadata": {},
   "source": [
    "Rotate by 0.2 radians"
   ]
  },
  {
   "cell_type": "code",
   "execution_count": 6,
   "metadata": {},
   "outputs": [
    {
     "name": "stdout",
     "output_type": "stream",
     "text": [
      "[[  0.9801  -0.1987]\n",
      " [  0.1987   0.9801]]\n"
     ]
    }
   ],
   "source": [
    "R = rot2(0.2)\n",
    "print(R)"
   ]
  },
  {
   "cell_type": "markdown",
   "metadata": {},
   "source": [
    "Rotate by 30 degrees"
   ]
  },
  {
   "cell_type": "code",
   "execution_count": 7,
   "metadata": {},
   "outputs": [
    {
     "name": "stdout",
     "output_type": "stream",
     "text": [
      "[[   0.866     -0.5]\n",
      " [     0.5    0.866]]\n"
     ]
    }
   ],
   "source": [
    "R = rot2(30,'deg')\n",
    "print(R)"
   ]
  },
  {
   "cell_type": "markdown",
   "metadata": {},
   "source": [
    "Rotation matrices are \n",
    " 1. orthnormal: columns are orthogonal to each other and unit length\n",
    " 2. full rank: independent/invertible\n",
    " 3. symmetrical: the inverse is equal to the transpose"
   ]
  },
  {
   "cell_type": "code",
   "execution_count": 8,
   "metadata": {},
   "outputs": [
    {
     "name": "stdout",
     "output_type": "stream",
     "text": [
      "Norm c1:  1.0\n",
      "Norm c2:  1.0\n"
     ]
    }
   ],
   "source": [
    "c1 = R[:,0]\n",
    "c2 = R[:,1]\n",
    "\n",
    "print('Norm c1: ', norm(c1))\n",
    "print('Norm c2: ', np.linalg.norm(c2))"
   ]
  },
  {
   "cell_type": "markdown",
   "metadata": {},
   "source": [
    "Dot Products:\n",
    "    \n",
    "There are several ways to compute the dot products. Directly from np.dot(a,b) or calling dot on a nupy array variable:"
   ]
  },
  {
   "cell_type": "code",
   "execution_count": 9,
   "metadata": {},
   "outputs": [
    {
     "data": {
      "text/plain": [
       "0.0"
      ]
     },
     "execution_count": 9,
     "metadata": {},
     "output_type": "execute_result"
    }
   ],
   "source": [
    "np.dot(c1,c2) # np.dot() works with vectors, dot() works with Quaternions\n",
    "c1.dot(c2)"
   ]
  },
  {
   "cell_type": "markdown",
   "metadata": {},
   "source": [
    "Determinant:\n",
    "    \n",
    "Numpy also has methods to compute the determinant of a matrix. Non zero determinants indicate full rank."
   ]
  },
  {
   "cell_type": "code",
   "execution_count": 10,
   "metadata": {},
   "outputs": [
    {
     "data": {
      "text/plain": [
       "1.0"
      ]
     },
     "execution_count": 10,
     "metadata": {},
     "output_type": "execute_result"
    }
   ],
   "source": [
    "np.linalg.det(R) # lnp.lingalg builds on blas/lapack libs. See https://numpy.org/doc/stable/reference/routines.linalg.html"
   ]
  },
  {
   "cell_type": "markdown",
   "metadata": {},
   "source": [
    "Inverse:\n",
    "\n",
    "Computing the inverse and the transpose is easy. Rotation matrices have a special property that their inverse is equal to their transpose. "
   ]
  },
  {
   "cell_type": "code",
   "execution_count": 11,
   "metadata": {},
   "outputs": [
    {
     "data": {
      "text/plain": [
       "array([[   0.866,      0.5],\n",
       "       [    -0.5,    0.866]])"
      ]
     },
     "execution_count": 11,
     "metadata": {},
     "output_type": "execute_result"
    }
   ],
   "source": [
    "np.linalg.inv(R)"
   ]
  },
  {
   "cell_type": "code",
   "execution_count": 15,
   "metadata": {},
   "outputs": [
    {
     "name": "stdout",
     "output_type": "stream",
     "text": [
      "The original rotation matrix is: \n",
      "[[   0.866      0.5]\n",
      " [    -0.5    0.866]].\n",
      "The transposed rotation matrix R' is: \n",
      "[[   0.866     -0.5]\n",
      " [     0.5    0.866]].\n"
     ]
    }
   ],
   "source": [
    "# Symmetrical\n",
    "R_transpose = np.transpose(R)\n",
    "print(f'The original rotation matrix is: \\n{R}.')\n",
    "print(f'The transposed rotation matrix R\\' is: \\n{R_transpose}.')"
   ]
  },
  {
   "cell_type": "markdown",
   "metadata": {},
   "source": [
    "Matrix-Matrix Multiplication:\n",
    "\n",
    "Matrix multiplication can be done in multiple ways. \n",
    "\n",
    "Rotation matrices keep all of their properties even when we multiply them.\n",
    "\n",
    "Be careful not to confuse it with element-wise matrix multiplication"
   ]
  },
  {
   "cell_type": "code",
   "execution_count": 16,
   "metadata": {},
   "outputs": [
    {
     "name": "stdout",
     "output_type": "stream",
     "text": [
      "Using np.matmul: \n",
      " [[     0.5    0.866]\n",
      " [  -0.866      0.5]] \n",
      "\n",
      "Using @ operator: \n",
      " [[     0.5    0.866]\n",
      " [  -0.866      0.5]] \n",
      "\n",
      "R*R is element-wise multiplication: \n",
      " [[    0.75     0.25]\n",
      " [    0.25     0.75]]\n"
     ]
    }
   ],
   "source": [
    "# Matmul\n",
    "print('Using np.matmul: \\n', np.matmul(R, R) ,'\\n')\n",
    "\n",
    "# @ operator\n",
    "print('Using @ operator: \\n', R@R, '\\n')\n",
    "\n",
    "# Careful not to confuse with elementwise multiplication.\n",
    "print('R*R is element-wise multiplication: \\n', R*R)"
   ]
  },
  {
   "cell_type": "markdown",
   "metadata": {},
   "source": [
    "## Symbolic\n",
    "\n",
    "Pyton's symbolic package will be useful to work with mathematical expressions directly. To use it, make sure you have installed it first. \n",
    "\n",
    "Installation occurs from bash not inside the python interpreter. But you can call bash commands from inside the interpreter if you use the exclamation mark !"
   ]
  },
  {
   "cell_type": "code",
   "execution_count": 17,
   "metadata": {},
   "outputs": [],
   "source": [
    "# Run as shell command with !\n",
    "# !pip3 install sympy"
   ]
  },
  {
   "cell_type": "code",
   "execution_count": 18,
   "metadata": {},
   "outputs": [],
   "source": [
    "from spatialmath.base.symbolic import *"
   ]
  },
  {
   "cell_type": "code",
   "execution_count": 19,
   "metadata": {},
   "outputs": [
    {
     "name": "stdout",
     "output_type": "stream",
     "text": [
      "[[cos(theta) -sin(theta)]\n",
      " [sin(theta) cos(theta)]]\n"
     ]
    }
   ],
   "source": [
    "theta = symbol('theta')\n",
    "\n",
    "R = rot2(theta)\n",
    "print(R)"
   ]
  },
  {
   "cell_type": "code",
   "execution_count": 20,
   "metadata": {},
   "outputs": [
    {
     "name": "stdout",
     "output_type": "stream",
     "text": [
      "[[-sin(theta)**2 + cos(theta)**2 -2*sin(theta)*cos(theta)]\n",
      " [2*sin(theta)*cos(theta) -sin(theta)**2 + cos(theta)**2]]\n"
     ]
    }
   ],
   "source": [
    "R2 = np.matmul(R,R)\n",
    "print(R2)"
   ]
  },
  {
   "cell_type": "markdown",
   "metadata": {},
   "source": [
    "Notice, that the symoblic class allows us to call the simplify method to get a much nicer representation that exploits identities. "
   ]
  },
  {
   "cell_type": "code",
   "execution_count": 21,
   "metadata": {},
   "outputs": [
    {
     "data": {
      "text/latex": [
       "$\\displaystyle \\left[\\begin{matrix}\\cos{\\left(2 \\theta \\right)} & - \\sin{\\left(2 \\theta \\right)}\\\\\\sin{\\left(2 \\theta \\right)} & \\cos{\\left(2 \\theta \\right)}\\end{matrix}\\right]$"
      ],
      "text/plain": [
       "[[cos(2*theta), -sin(2*theta)], [sin(2*theta), cos(2*theta)]]"
      ]
     },
     "execution_count": 21,
     "metadata": {},
     "output_type": "execute_result"
    }
   ],
   "source": [
    "simplify(np.matmul(R,R))"
   ]
  },
  {
   "cell_type": "markdown",
   "metadata": {},
   "source": [
    "---\n",
    "## Lec 01.7 (Ch 2.1) 2D Rotation and Translation"
   ]
  },
  {
   "cell_type": "markdown",
   "metadata": {},
   "source": [
    "Create a homogenous transformation representation of a pure translation working in 2D.\n"
   ]
  },
  {
   "cell_type": "code",
   "execution_count": 22,
   "metadata": {},
   "outputs": [
    {
     "name": "stdout",
     "output_type": "stream",
     "text": [
      "<class 'numpy.ndarray'>\n",
      "[[       1        0        1]\n",
      " [       0        1        2]\n",
      " [       0        0        1]]\n"
     ]
    }
   ],
   "source": [
    "# https://petercorke.github.io/spatialmath-python/func_2d.html?highlight=transl2#spatialmath.base.transforms2d.transl2\n",
    "T1 = transl2(1, 2)\n",
    "\n",
    "print(type(T1))\n",
    "print(T1)"
   ]
  },
  {
   "cell_type": "markdown",
   "metadata": {},
   "source": [
    "Create a homogenous transformation representation a pure rotation"
   ]
  },
  {
   "cell_type": "code",
   "execution_count": 25,
   "metadata": {},
   "outputs": [
    {
     "name": "stdout",
     "output_type": "stream",
     "text": [
      "<class 'numpy.ndarray'>\n",
      "2D Rotation matrix R1 about 0.5236 radians is: \n",
      "[[   0.866     -0.5]\n",
      " [     0.5    0.866]]\n",
      "2D Rotation matrix R1 about 30 degrees is: \n",
      "[[   0.866     -0.5]\n",
      " [     0.5    0.866]]\n"
     ]
    }
   ],
   "source": [
    "R1 = rot2(0.5236)\n",
    "print(type(R))\n",
    "print(f'2D Rotation matrix R1 about 0.5236 radians is: \\n{R1}')\n",
    "\n",
    "R1 = rot2(30,'deg')\n",
    "print(f'2D Rotation matrix R1 about 30 degrees is: \\n{R1}')"
   ]
  },
  {
   "cell_type": "markdown",
   "metadata": {},
   "source": [
    "Rotation + Translation:\n",
    "\n",
    "We can easily generate a 2D homogenous tranformation matrix that includes a rotation and translation by multiplying the individual compoents. The @operator is particularly convenient:"
   ]
  },
  {
   "cell_type": "code",
   "execution_count": 28,
   "metadata": {},
   "outputs": [
    {
     "name": "stdout",
     "output_type": "stream",
     "text": [
      "<class 'numpy.ndarray'>\n",
      "The homogeneous transformation matrix is: \n",
      "[[   0.866     -0.5        1]\n",
      " [     0.5    0.866        2]\n",
      " [       0        0        1]].\n"
     ]
    }
   ],
   "source": [
    "T1 = transl2(1, 2)@trot2(30, 'deg')\n",
    "\n",
    "print(type(T1))\n",
    "print(f'The homogeneous transformation matrix is: \\n{T1}.')"
   ]
  },
  {
   "cell_type": "markdown",
   "metadata": {},
   "source": [
    "Special Eucliden SE(2) command can combine the translation and rotation with a single command.\n",
    "\n",
    "But notice that in this case, the output object is not of type numpy.ndarray, but SE2.\n",
    "\n",
    "SE2 objects share same methods as lists... but if you want to extract elements, you need to convert it to a numpy.ndarray object first using the .A attribute."
   ]
  },
  {
   "cell_type": "code",
   "execution_count": 32,
   "metadata": {},
   "outputs": [
    {
     "name": "stdout",
     "output_type": "stream",
     "text": [
      "<class 'spatialmath.pose2d.SE2'>\n",
      "The special SE2 object (homogeneous transform) is: \n",
      "  \u001b[38;5;1m 0.866   \u001b[0m \u001b[38;5;1m-0.5     \u001b[0m \u001b[38;5;4m 1       \u001b[0m  \u001b[0m\n",
      "  \u001b[38;5;1m 0.5     \u001b[0m \u001b[38;5;1m 0.866   \u001b[0m \u001b[38;5;4m 2       \u001b[0m  \u001b[0m\n",
      "  \u001b[38;5;244m 0       \u001b[0m \u001b[38;5;244m 0       \u001b[0m \u001b[38;5;244m 1       \u001b[0m  \u001b[0m\n",
      "\n",
      "The version instantiated by radians is: \n",
      "  \u001b[38;5;1m 0.866   \u001b[0m \u001b[38;5;1m-0.5     \u001b[0m \u001b[38;5;4m 1       \u001b[0m  \u001b[0m\n",
      "  \u001b[38;5;1m 0.5     \u001b[0m \u001b[38;5;1m 0.866   \u001b[0m \u001b[38;5;4m 2       \u001b[0m  \u001b[0m\n",
      "  \u001b[38;5;244m 0       \u001b[0m \u001b[38;5;244m 0       \u001b[0m \u001b[38;5;244m 1       \u001b[0m  \u001b[0m\n",
      "\n"
     ]
    }
   ],
   "source": [
    "T1 = SE2(1,2,30, unit='deg') # yields an SE object\n",
    "print(type(T1))\n",
    "print(f'The special SE2 object (homogeneous transform) is: \\n{T1}')\n",
    "\n",
    "print('The version instantiated by radians is: ')\n",
    "T1 = SE2(1,2,0.5236)\n",
    "print(T1)"
   ]
  },
  {
   "cell_type": "markdown",
   "metadata": {},
   "source": [
    "Try to extract the [1,1] element of the T1 homogeneous transform. \n",
    "\n",
    "Extract the numpy array property first, and then use square brackets:"
   ]
  },
  {
   "cell_type": "code",
   "execution_count": 34,
   "metadata": {},
   "outputs": [
    {
     "data": {
      "text/plain": [
       "0.866024791582939"
      ]
     },
     "execution_count": 34,
     "metadata": {},
     "output_type": "execute_result"
    }
   ],
   "source": [
    "# Extract numpy.ndarray version first.\n",
    "T1.A[1,1]"
   ]
  },
  {
   "cell_type": "markdown",
   "metadata": {},
   "source": [
    "The following does not work. "
   ]
  },
  {
   "cell_type": "code",
   "execution_count": 36,
   "metadata": {},
   "outputs": [
    {
     "name": "stdout",
     "output_type": "stream",
     "text": [
      "Cannot access directly\n"
     ]
    }
   ],
   "source": [
    "try:\n",
    "    T1[1,1] # does not work as an SE2 object\n",
    "except:\n",
    "    print('Cannot access directly')"
   ]
  },
  {
   "cell_type": "markdown",
   "metadata": {},
   "source": [
    "### Plotting\n",
    "\n",
    "Plotting will be done via matplotlib, there are several other packages that you could use in python to plot (i.e. plotly).\n",
    "\n",
    "You can explore different tutorials online on matplotlib to understand the package better. \n",
    "\n",
    "You will want to understand differences between fixures and axes and different ways to represent data and labels. Learning about backends is also important to modify the interfaces. \n",
    "\n",
    "https://matplotlib.org/3.1.1/tutorials/index.html\n",
    "https://www.tutorialspoint.com/matplotlib/index.htm\n"
   ]
  },
  {
   "cell_type": "code",
   "execution_count": null,
   "metadata": {},
   "outputs": [],
   "source": [
    "# Setup plotting capabilities for Jupyterlab\n",
    "# Run as shell command with !\n",
    "#!pip3 install ipympl"
   ]
  },
  {
   "cell_type": "markdown",
   "metadata": {},
   "source": [
    "Getting ready to plot. "
   ]
  },
  {
   "cell_type": "code",
   "execution_count": null,
   "metadata": {},
   "outputs": [],
   "source": [
    "# Create a figure\n",
    "fig = plt.figure() # Save the figure handle in object fig"
   ]
  },
  {
   "cell_type": "code",
   "execution_count": null,
   "metadata": {},
   "outputs": [],
   "source": [
    "# Manipulate the axes of fig above\n",
    "plt.axes( xlim = (-1,5),\n",
    "          ylim = (-1,6) ); # Change the dimensions of selected axes"
   ]
  },
  {
   "cell_type": "code",
   "execution_count": null,
   "metadata": {},
   "outputs": [],
   "source": [
    "# Create new coordinates\n",
    "T1 = transl2(1, 2)"
   ]
  },
  {
   "cell_type": "markdown",
   "metadata": {},
   "source": [
    "Plot the homogenous transform with trplot2. In fact, trplot 2 will create a figure by itself, we do not need to explicitly call it. If a figure is already open, trplot will use it."
   ]
  },
  {
   "cell_type": "code",
   "execution_count": null,
   "metadata": {},
   "outputs": [],
   "source": [
    "# https://petercorke.github.io/spatialmath-python/func_2d.html?highlight=trplot#spatialmath.base.transforms2d.trplot2\n",
    "trplot2(T1, frame='1', color='blue', labels=('x','y'),block=False); # assign color and labels"
   ]
  },
  {
   "cell_type": "markdown",
   "metadata": {},
   "source": [
    "Additional trplots, will use the same figure, unless one explicitly creates/selects a different figure."
   ]
  },
  {
   "cell_type": "code",
   "execution_count": null,
   "metadata": {},
   "outputs": [],
   "source": [
    "T2 = transl2(2, 1)\n",
    "trplot2(T2, frame='2', color='red',block=False);"
   ]
  },
  {
   "cell_type": "markdown",
   "metadata": {},
   "source": [
    "How would a compound transformation T1 followed by T2 look like"
   ]
  },
  {
   "cell_type": "code",
   "execution_count": null,
   "metadata": {},
   "outputs": [],
   "source": [
    "T3 = T1@T2\n",
    "trplot2(T3, frame='3', color='green', block=False);"
   ]
  },
  {
   "cell_type": "code",
   "execution_count": null,
   "metadata": {},
   "outputs": [],
   "source": [
    "# Create a point W_P wrt to the world\n",
    "P = np.array([[3],[2]])"
   ]
  },
  {
   "cell_type": "markdown",
   "metadata": {},
   "source": [
    "Points can be represented via the 'scatter' plot in matplotlib. We can assign the color of the point via option 'c' as well as the type of marker via option 'marker'."
   ]
  },
  {
   "cell_type": "code",
   "execution_count": null,
   "metadata": {},
   "outputs": [],
   "source": [
    "plt.scatter(P[0].item(),P[1].item(), c='black',marker='^' );"
   ]
  },
  {
   "cell_type": "markdown",
   "metadata": {},
   "source": [
    "What if we wish to know the coordinates of the point wrt to coordinate frame 1 and not the world origin?"
   ]
  },
  {
   "cell_type": "code",
   "execution_count": null,
   "metadata": {},
   "outputs": [],
   "source": [
    "# Where, 1_T_W = inv(W_T_1)\n",
    "# 1_P = 1_T_W * W_P\n",
    "P1 = np.matmul(np.linalg.inv(T1),e2h(P))\n",
    "print(P1)"
   ]
  },
  {
   "cell_type": "code",
   "execution_count": null,
   "metadata": {},
   "outputs": [],
   "source": [
    "# Plot the point\n",
    "plt.scatter( h2e(P1)[0],h2e(P1)[1],c='red');\n",
    "print(h2e(P1))"
   ]
  },
  {
   "cell_type": "code",
   "execution_count": null,
   "metadata": {},
   "outputs": [],
   "source": [
    "# 2_P = 2_T_W * W_P\n",
    "P2 = np.matmul(np.linalg.inv(T2),e2h(P))\n",
    "print(P2)"
   ]
  }
 ],
 "metadata": {
  "kernelspec": {
   "display_name": "Python 3",
   "language": "python",
   "name": "python3"
  },
  "language_info": {
   "codemirror_mode": {
    "name": "ipython",
    "version": 3
   },
   "file_extension": ".py",
   "mimetype": "text/x-python",
   "name": "python",
   "nbconvert_exporter": "python",
   "pygments_lexer": "ipython3",
   "version": "3.8.10"
  }
 },
 "nbformat": 4,
 "nbformat_minor": 4
}
